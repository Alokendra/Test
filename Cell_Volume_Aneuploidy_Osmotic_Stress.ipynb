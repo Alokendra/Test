{
 "cells": [
  {
   "cell_type": "markdown",
   "metadata": {
    "slideshow": {
     "slide_type": "-"
    }
   },
   "source": [
    "# Cell Volume, Aneuploidy and Osmotic Stress\n",
    "\n",
    "This document is created to explore some of the results from Tsai et. al. biophysical model which that derives a relationship between cell volume and ploidy by showing how changes in the *protein abundances* and *composition* in aneuploid cells creates a hypo osmotic stress which causes a change in cell volume. Here we show the main equations of the model and its application to show how cell volume changes as a function of ploidy under different combinations of biophysical parameters of the cell. For the ease of exploration sliders are created for some of the key parameters of the model that can be changed interactively."
   ]
  },
  {
   "cell_type": "markdown",
   "metadata": {
    "slideshow": {
     "slide_type": "-"
    }
   },
   "source": [
    "## Biophysical model (no ions)\n",
    "\n",
    "Considering transport of water and by balancing the chemical potential of water inside and outside the cell one gets\n",
    "\n",
    "$$\\mu_{H_2O}^{in} - RT \\ln c_{H_2O}^{in} - \\int_P^{P + \\Pi}V_mdp = \\mu_{H_2O}^{out} + \\Delta\\mu_{H_2O}^{memb} - RT \\ln c_{H_2O}^{out}$$"
   ]
  },
  {
   "cell_type": "markdown",
   "metadata": {
    "slideshow": {
     "slide_type": "-"
    }
   },
   "source": [
    "At equilibrium, by equating the chemical potential of water inside and outside one can write\n",
    "\n",
    "$$\\Pi = -\\frac{RT}{V_m}\\ln{\\left(\\frac{c_{H_2O}^{in}}{c_{H_2O}^{out}c_{H_2O}^{memb}}\\right)} = -\\frac{RT}{V_m}\\ln{\\alpha}$$\n",
    "\n",
    "In the above equation, $\\alpha$ is the water abundance factor.\n",
    "Considering that water is the dominant component of the cell the effective volume of the cell is then proportional to number of proteins in the cell times the water abundance factor $\\alpha$\n",
    "\n",
    "$$V_{eff} = V - V_m \\propto N_p\\alpha$$"
   ]
  },
  {
   "cell_type": "markdown",
   "metadata": {
    "slideshow": {
     "slide_type": "-"
    }
   },
   "source": [
    "If there are $N_k$ proteins of type k (where $k = 1,2,\\ldots,N$) in the cell and $N_c$ complexes of type c (where $c = 1,2,\\ldots,M$ then the total number of free proteins is given by [Tsai 2019][tsai2019hypo]\n",
    "\n",
    "$$N_p = \\sum_{k=1}^{N}N_k - \\sum_{c=1}^{M}\\min_{k \\in S_c}(N_k)N_c$$"
   ]
  },
  {
   "cell_type": "markdown",
   "metadata": {
    "slideshow": {
     "slide_type": "-"
    }
   },
   "source": [
    "Here, the second term considers that the number of complexes of type $c$ is equal to the number of its least abundant component.\n",
    "This holds if every protein participates in a single complex and every complex assembles fully which are assumed here.\n",
    "Now if we have aneuploid cells then for particular proteins their amount may double due to duplication of gene coding.\n",
    "If $A_k$ is the abundance of protein $k$ and $P_k$ is the probability of gene duplication then the number of proteins can be written as $N_k = A_kP_k$. Then the above equatio becomes\n",
    "\n",
    "$$V_{eff} = V - V_m = \\alpha \\left(\\sum_{k=1}^{N}A_kP_k - \\sum_{c=1}^M\\min_{k \\in S_c}(A_kP_k)N_c\\right)$$"
   ]
  },
  {
   "cell_type": "markdown",
   "metadata": {
    "slideshow": {
     "slide_type": "-"
    }
   },
   "source": [
    "To obtain the effective volume one needs estimates of relative abundances of proteins and average sizes of protein complexes. In [Tsai 2019][tsai2019hypo] the relative abundances were obtained from PAX-DB project dataset and average protein complex size was estimated using two methods\n",
    "\n",
    "- Average number of protein-protein interactions.\n",
    "- Measurements of number of complex size distributions.\n",
    "\n",
    "A correction factor was also introduced for protein abundance to account for the correlation of abundances in proteins that form complex. If the correlation factor is $c_{complex}$ then the adjusted abundance is\n",
    "\n",
    "$$A'_i = A_i(1 - c_{complex}) + c_{complex}\\sum_{j\\in{complex}}A_j$$\n",
    "\n",
    "\n",
    "[tsai2019hypo]: #References"
   ]
  },
  {
   "cell_type": "markdown",
   "metadata": {
    "slideshow": {
     "slide_type": "-"
    }
   },
   "source": [
    "## Parameter Sweeps\n",
    "\n",
    "The simulations were conducted for different sets of parameters. First the important modules were imported. Numpy and matplotlib needs to be installed."
   ]
  },
  {
   "cell_type": "code",
   "execution_count": 1,
   "metadata": {
    "slideshow": {
     "slide_type": "-"
    }
   },
   "outputs": [],
   "source": [
    "import os, sys\n",
    "from random import shuffle\n",
    "import numpy as np\n",
    "from pickle import load, dump\n",
    "from combined_simulations import Get_Abundance_Data, core_sim_loop, average_simulation_data\n",
    "from protein_abundance_preprocess import Ploidy_Data\n",
    "from protein_abundances import generate_complex_ids, last_complex_adjustment, align_complex_abundances,\\\n",
    "sorted_complex_abundances, complex_distribution, Ion_Contribution\n",
    "from simulation_plots import Plot_Sweep_Data, Varying_Alpha"
   ]
  },
  {
   "cell_type": "markdown",
   "metadata": {
    "slideshow": {
     "slide_type": "-"
    }
   },
   "source": [
    "### Complex size distribution\n",
    "\n",
    "The first case we consider is the simplest, where all complexes are present at the same abundance (6). The different parameters of the models are set below"
   ]
  },
  {
   "cell_type": "code",
   "execution_count": 2,
   "metadata": {
    "slideshow": {
     "slide_type": "-"
    }
   },
   "outputs": [],
   "source": [
    "Sweep_Parameters = {\n",
    "    \"complex size\" : {\n",
    "        \"sweep_elem\" : \"total_partners\",\n",
    "        \"total_partners\" : [6],\n",
    "        \"abundance_correlation\" : 0.7,\n",
    "        \"alpha\" : 1,\n",
    "        \"ideality_correction\" : 1\n",
    "        }\n",
    "}"
   ]
  },
  {
   "cell_type": "markdown",
   "metadata": {
    "slideshow": {
     "slide_type": "-"
    }
   },
   "source": [
    "We can initialize some other variables as below"
   ]
  },
  {
   "cell_type": "code",
   "execution_count": 3,
   "metadata": {
    "slideshow": {
     "slide_type": "-"
    }
   },
   "outputs": [],
   "source": [
    "Datadir = \"data\"\n",
    "Plotdir = \"figures\"\n",
    "Datastatfile = os.path.join(Datadir, \"data_stats_dump.dmp\")\n",
    "Interaction = \"Paxdb\"\n",
    "abundance_range, total_partners = Get_Abundance_Data(Datastatfile, Interaction = Interaction)\n",
    "\n",
    "base = np.linspace(0.0, 1.0, 20).tolist()\n",
    "arr_base = np.array(base) + 1"
   ]
  },
  {
   "cell_type": "markdown",
   "metadata": {
    "slideshow": {
     "slide_type": "-"
    }
   },
   "source": [
    "Then we can create the different cases as below"
   ]
  },
  {
   "cell_type": "code",
   "execution_count": 4,
   "metadata": {
    "slideshow": {
     "slide_type": "-"
    }
   },
   "outputs": [],
   "source": [
    "def sweep_parameter(base, sweep_name, Ions = False, Ion_Alignment = False):\n",
    "    \"\"\"\n",
    "    Performs a sweep over complex sizes\n",
    "    \"\"\"\n",
    "    sweep_key = Sweep_Parameters[sweep_name][\"sweep_elem\"]\n",
    "    sweep_values = Sweep_Parameters[sweep_name][sweep_key]\n",
    "    Data = { key : [] for key in sweep_values }\n",
    "    Data_Ions = { key : [] for key in sweep_values }\n",
    "    arr_base = np.array(base) + 1\n",
    "    Sweepfile = os.path.join(\"data\", \"%s.dmp\" % sweep_name.capitalize().replace(\" \",\"_\"))\n",
    "\n",
    "    for ii, key in enumerate(sweep_values):\n",
    "\n",
    "        if Ions:\n",
    "            Sweep_Parameters[sweep_name][sweep_key] = [key] if sweep_name == \"complex size\" else key\n",
    "            complex_contents = generate_complex_ids(Sweep_Parameters[sweep_name][\"total_partners\"], len(abundance_range))\n",
    "        else:\n",
    "            Sweep_Parameters[sweep_name][sweep_key] = key\n",
    "            complex_contents = generate_complex_ids([Sweep_Parameters[sweep_name][\"total_partners\"]], len(abundance_range))\n",
    "        \n",
    "        complex_contents = last_complex_adjustment(complex_contents, len(abundance_range))\n",
    "        unaligned_abundances = np.copy(abundance_range)\n",
    "        aligned_abundances = align_complex_abundances(complex_contents, abundance_range, abundance_correlation = Sweep_Parameters[sweep_name][\"abundance_correlation\"])\n",
    "        aligned_abundances = sorted_complex_abundances(aligned_abundances, complex_contents[-1], abundance_range, abundance_correlation = Sweep_Parameters[sweep_name][\"abundance_correlation\"])\n",
    "        re_runs, buckets = core_sim_loop(base, complex_contents, aligned_abundances)\n",
    "        means, stds, pre_buckets = average_simulation_data(re_runs, buckets, alpha = Sweep_Parameters[sweep_name][\"alpha\"], ideality_correction = Sweep_Parameters[sweep_name][\"ideality_correction\"])\n",
    "        Data[key] = (means, stds, pre_buckets)\n",
    "        ion_contributions = []\n",
    "        if not Ion_Alignment:\n",
    "            complex_dist = complex_distribution(complex_contents, unaligned_abundances)\n",
    "        else:\n",
    "            complex_dist = complex_distribution(complex_contents, aligned_abundances)\n",
    "        for aneuploidy_factor in base:\n",
    "            ion_contributions.append(Ion_Contribution(complex_dist, aneuploidy_factor))\n",
    "\n",
    "        ion_contributions = np.array(ion_contributions)\n",
    "        Norm_Factor = (Sweep_Parameters[sweep_name][\"alpha\"]*Sweep_Parameters[sweep_name][\"ideality_correction\"])/ion_contributions[0]\n",
    "        ion_contributions = ion_contributions * Norm_Factor\n",
    "        Data_Ions[key] = ion_contributions\n",
    "\n",
    "    \n",
    "    with open(Sweepfile, \"w\") as fp: dump({\"Sweep_Data\" : Data, \"arr_base\" : arr_base, \"Ion_Data\" : Data_Ions, \"complex_dist\" : complex_dist}, fp)"
   ]
  },
  {
   "cell_type": "markdown",
   "metadata": {
    "slideshow": {
     "slide_type": "-"
    }
   },
   "source": [
    "Next we can run the sweep over the complex sizes (in this case there is only one, 6)"
   ]
  },
  {
   "cell_type": "code",
   "execution_count": 5,
   "metadata": {
    "slideshow": {
     "slide_type": "-"
    }
   },
   "outputs": [],
   "source": [
    "sweep_parameter(base, \"complex size\")"
   ]
  },
  {
   "cell_type": "markdown",
   "metadata": {
    "slideshow": {
     "slide_type": "-"
    }
   },
   "source": [
    "Then we can import the plotting module and get the plots as below"
   ]
  },
  {
   "cell_type": "code",
   "execution_count": 6,
   "metadata": {
    "slideshow": {
     "slide_type": "-"
    }
   },
   "outputs": [
    {
     "data": {
      "application/vnd.jupyter.widget-view+json": {
       "model_id": "d8c6e1cdd77d41c3a2d262d7f5254578",
       "version_major": 2,
       "version_minor": 0
      },
      "text/plain": [
       "IntText(value=5, description=u'Value: ')"
      ]
     },
     "metadata": {},
     "output_type": "display_data"
    },
    {
     "data": {
      "application/vnd.jupyter.widget-view+json": {
       "model_id": "11a44fd6eae34fa38de4a7ee34bed271",
       "version_major": 2,
       "version_minor": 0
      },
      "text/plain": [
       "IntProgress(value=5, max=50, min=5)"
      ]
     },
     "metadata": {},
     "output_type": "display_data"
    },
    {
     "data": {
      "application/vnd.jupyter.widget-view+json": {
       "model_id": "c897844ef05045b3a29e1872dbb8b96f",
       "version_major": 2,
       "version_minor": 0
      },
      "text/plain": [
       "aW50ZXJhY3RpdmUoY2hpbGRyZW49KEludFNsaWRlcih2YWx1ZT01LCBkZXNjcmlwdGlvbj11J1NpemUnLCBtYXg9NTAsIG1pbj01LCBzdGVwPTUpLCBPdXRwdXQoKSksIF9kb21fY2xhc3Nlcz3igKY=\n"
      ]
     },
     "metadata": {},
     "output_type": "display_data"
    }
   ],
   "source": [
    "Sweepdatafile = os.path.join(Datadir, \"Complex_size.dmp\")\n",
    "from IPython.display import Image, display\n",
    "from ipywidgets import interactive\n",
    "import ipywidgets as widgets\n",
    "\n",
    "f = widgets.IntProgress(min=5, max=50, step=5, value=5)\n",
    "g = widgets.IntText(value=5, description=\"Value: \")\n",
    "display(g)\n",
    "display(f)\n",
    "\n",
    "def plot_complex_size(Size=2):\n",
    "    Sweep_Parameters[\"complex size\"][\"total_partners\"] = [Size]\n",
    "    sweep_parameter(base, \"complex size\")\n",
    "    Plot_Sweep_Data(Sweepdatafile, \"complex size\", Ions = False, Alignment = False)\n",
    "    display(Image(filename='figures/Cell_diameter_vs_ploidy_vs_complex_size.png'))\n",
    "    f.value = Size\n",
    "    g.value = Size\n",
    "\n",
    "p = interactive(plot_complex_size, Size = widgets.IntSlider(min=5, max=50, step=5, value=5))\n",
    "p"
   ]
  },
  {
   "cell_type": "markdown",
   "metadata": {},
   "source": [
    "Setup a progress bar"
   ]
  },
  {
   "cell_type": "markdown",
   "metadata": {
    "slideshow": {
     "slide_type": "-"
    }
   },
   "source": [
    "Next we will change the complex numbers over a range instead of a single value and rerun the simulation again"
   ]
  },
  {
   "cell_type": "code",
   "execution_count": 7,
   "metadata": {
    "slideshow": {
     "slide_type": "-"
    }
   },
   "outputs": [
    {
     "data": {
      "application/vnd.jupyter.widget-view+json": {
       "model_id": "22e98ffb51a240268c35c98a7f043979",
       "version_major": 2,
       "version_minor": 0
      },
      "text/plain": [
       "FloatText(value=0.7, description=u'Value: ')"
      ]
     },
     "metadata": {},
     "output_type": "display_data"
    },
    {
     "data": {
      "application/vnd.jupyter.widget-view+json": {
       "model_id": "96fe6c144cf54d53b51f1cdeb85ecfd2",
       "version_major": 2,
       "version_minor": 0
      },
      "text/plain": [
       "FloatProgress(value=0.7, max=0.9, min=0.5)"
      ]
     },
     "metadata": {},
     "output_type": "display_data"
    },
    {
     "data": {
      "application/vnd.jupyter.widget-view+json": {
       "model_id": "d2b5fc0598424e858b431e49dcebc4b4",
       "version_major": 2,
       "version_minor": 0
      },
      "text/plain": [
       "FloatText(value=1.0, description=u'Value: ')"
      ]
     },
     "metadata": {},
     "output_type": "display_data"
    },
    {
     "data": {
      "application/vnd.jupyter.widget-view+json": {
       "model_id": "4855debcdf7c449d9bc40a20b621bfbe",
       "version_major": 2,
       "version_minor": 0
      },
      "text/plain": [
       "FloatProgress(value=1.0, max=1.0, min=0.2)"
      ]
     },
     "metadata": {},
     "output_type": "display_data"
    },
    {
     "data": {
      "application/vnd.jupyter.widget-view+json": {
       "model_id": "bf97ef4d9e9648dd9987744766f26080",
       "version_major": 2,
       "version_minor": 0
      },
      "text/plain": [
       "aW50ZXJhY3RpdmUoY2hpbGRyZW49KEZsb2F0U2xpZGVyKHZhbHVlPTAuNywgZGVzY3JpcHRpb249dSdhYnVuZGFuY2VfY29ycmVsYXRpb24nLCBtYXg9MC45LCBtaW49MC41KSwgRmxvYXRTbGnigKY=\n"
      ]
     },
     "metadata": {},
     "output_type": "display_data"
    }
   ],
   "source": [
    "f1 = widgets.FloatProgress(min=0.5, max=0.9, step=0.1, value=0.7)\n",
    "f2 = widgets.FloatProgress(min=0.2, max=1.0, step=0.2, value=1.0)\n",
    "g1 = widgets.FloatText(value=0.7, description=\"Value: \")\n",
    "g2 = widgets.FloatText(value=1.0, description=\"Value: \")\n",
    "display(g1)\n",
    "display(f1)\n",
    "display(g2)\n",
    "display(f2)\n",
    "\n",
    "def plot_complex_sweep(abundance_correlation, alpha):\n",
    "    Sweep_Parameters[\"complex size\"][\"total_partners\"] = [2, 5, 10, 20, 40]\n",
    "    Sweep_Parameters[\"complex size\"][\"abundance_correlation\"] = abundance_correlation\n",
    "    Sweep_Parameters[\"complex size\"][\"alpha\"] = alpha\n",
    "    sweep_parameter(base, \"complex size\")\n",
    "    Sweepdatafile = os.path.join(Datadir, \"Complex_size.dmp\")\n",
    "    Plot_Sweep_Data(Sweepdatafile, \"complex size\")\n",
    "    display(Image(filename='figures/Cell_diameter_vs_ploidy_vs_complex_size.png'))\n",
    "    f1.value = abundance_correlation\n",
    "    g1.value = abundance_correlation\n",
    "    f2.value = alpha\n",
    "    g2.value = alpha\n",
    "    \n",
    "q = interactive(plot_complex_sweep, \n",
    "                abundance_correlation = widgets.FloatSlider(min=0.5, max=0.9, step=0.1, value=0.7),\n",
    "                alpha = widgets.FloatSlider(min=0.2, max=1.0, step=0.2, value=1.0))\n",
    "q"
   ]
  },
  {
   "cell_type": "markdown",
   "metadata": {
    "slideshow": {
     "slide_type": "-"
    }
   },
   "source": [
    "### Abundance Correlation Factor\n",
    "\n",
    "In a similar way we can set the the abundance correlation factor as below"
   ]
  },
  {
   "cell_type": "code",
   "execution_count": 8,
   "metadata": {
    "slideshow": {
     "slide_type": "-"
    }
   },
   "outputs": [],
   "source": [
    "Sweep_Parameters[\"abundance correlation\"] = {\n",
    "        \"sweep_elem\" : \"abundance_correlation\",\n",
    "        \"total_partners\" : 2,\n",
    "        \"abundance_correlation\" : np.linspace(0.5, 0.9, 5).tolist(),\n",
    "        \"alpha\" : 1,\n",
    "        \"ideality_correction\" : 1\n",
    "        }"
   ]
  },
  {
   "cell_type": "markdown",
   "metadata": {
    "slideshow": {
     "slide_type": "-"
    }
   },
   "source": [
    "Now we can run the simulation and plot the results in a similar way"
   ]
  },
  {
   "cell_type": "code",
   "execution_count": 9,
   "metadata": {
    "slideshow": {
     "slide_type": "-"
    }
   },
   "outputs": [
    {
     "data": {
      "application/vnd.jupyter.widget-view+json": {
       "model_id": "d8c6e1cdd77d41c3a2d262d7f5254578",
       "version_major": 2,
       "version_minor": 0
      },
      "text/plain": [
       "IntText(value=5, description=u'Value: ')"
      ]
     },
     "metadata": {},
     "output_type": "display_data"
    },
    {
     "data": {
      "application/vnd.jupyter.widget-view+json": {
       "model_id": "11a44fd6eae34fa38de4a7ee34bed271",
       "version_major": 2,
       "version_minor": 0
      },
      "text/plain": [
       "IntProgress(value=5, max=50, min=5)"
      ]
     },
     "metadata": {},
     "output_type": "display_data"
    },
    {
     "data": {
      "application/vnd.jupyter.widget-view+json": {
       "model_id": "d2b5fc0598424e858b431e49dcebc4b4",
       "version_major": 2,
       "version_minor": 0
      },
      "text/plain": [
       "FloatText(value=1.0, description=u'Value: ')"
      ]
     },
     "metadata": {},
     "output_type": "display_data"
    },
    {
     "data": {
      "application/vnd.jupyter.widget-view+json": {
       "model_id": "4855debcdf7c449d9bc40a20b621bfbe",
       "version_major": 2,
       "version_minor": 0
      },
      "text/plain": [
       "FloatProgress(value=1.0, max=1.0, min=0.2)"
      ]
     },
     "metadata": {},
     "output_type": "display_data"
    },
    {
     "data": {
      "application/vnd.jupyter.widget-view+json": {
       "model_id": "3f9d715fa7ff4273a0d626b9bbd4123f",
       "version_major": 2,
       "version_minor": 0
      },
      "text/plain": [
       "aW50ZXJhY3RpdmUoY2hpbGRyZW49KEludFNsaWRlcih2YWx1ZT01LCBkZXNjcmlwdGlvbj11J3RvdGFsX3BhcnRuZXJzJywgbWF4PTMwLCBtaW49NSwgc3RlcD01KSwgRmxvYXRTbGlkZXIodmHigKY=\n"
      ]
     },
     "metadata": {},
     "output_type": "display_data"
    }
   ],
   "source": [
    "display(g)\n",
    "display(f)\n",
    "display(g2)\n",
    "display(f2)\n",
    "\n",
    "\n",
    "def plot_abundance_correlation(total_partners, alpha):\n",
    "    Sweep_Parameters[\"abundance correlation\"][\"total_partners\"] = total_partners\n",
    "    Sweep_Parameters[\"abundance correlation\"][\"abundance_correlation\"] = np.linspace(0.5, 0.9, 5).tolist()\n",
    "    Sweep_Parameters[\"abundance correlation\"][\"alpha\"] = alpha\n",
    "    sweep_parameter(base, \"abundance correlation\")\n",
    "    Sweepdatafile = os.path.join(Datadir, \"Abundance_correlation.dmp\")\n",
    "    Plot_Sweep_Data(Sweepdatafile, \"abundance correlation\")\n",
    "    display(Image(filename='figures/Cell_diameter_vs_ploidy_vs_abundance_correlation.png'))\n",
    "    f.value = total_partners\n",
    "    g.value = total_partners\n",
    "    f2.value = alpha\n",
    "    g2.value = alpha\n",
    "    \n",
    "r = interactive(plot_abundance_correlation, \n",
    "                total_partners = widgets.IntSlider(min=5, max=30, step=5, value=5),\n",
    "                alpha = widgets.FloatSlider(min=0.2, max=1.0, step=0.2, value=1.0))\n",
    "r"
   ]
  },
  {
   "cell_type": "markdown",
   "metadata": {
    "slideshow": {
     "slide_type": "-"
    }
   },
   "source": [
    "### Water abundance factor\n",
    "\n",
    "Next we can change the water abundance factor and see its effect"
   ]
  },
  {
   "cell_type": "code",
   "execution_count": 10,
   "metadata": {
    "slideshow": {
     "slide_type": "-"
    }
   },
   "outputs": [],
   "source": [
    "Sweep_Parameters[\"water abundance\"] = {\n",
    "        \"sweep_elem\" : \"alpha\",\n",
    "        \"total_partners\" : 5,\n",
    "        \"abundance_correlation\" : 0.5,\n",
    "        \"alpha\" : np.linspace(0.15, 1.0, 6).tolist(),\n",
    "        \"ideality_correction\" : 1\n",
    "        }"
   ]
  },
  {
   "cell_type": "code",
   "execution_count": 11,
   "metadata": {
    "slideshow": {
     "slide_type": "-"
    }
   },
   "outputs": [
    {
     "data": {
      "application/vnd.jupyter.widget-view+json": {
       "model_id": "d8c6e1cdd77d41c3a2d262d7f5254578",
       "version_major": 2,
       "version_minor": 0
      },
      "text/plain": [
       "IntText(value=5, description=u'Value: ')"
      ]
     },
     "metadata": {},
     "output_type": "display_data"
    },
    {
     "data": {
      "application/vnd.jupyter.widget-view+json": {
       "model_id": "11a44fd6eae34fa38de4a7ee34bed271",
       "version_major": 2,
       "version_minor": 0
      },
      "text/plain": [
       "IntProgress(value=5, max=50, min=5)"
      ]
     },
     "metadata": {},
     "output_type": "display_data"
    },
    {
     "data": {
      "application/vnd.jupyter.widget-view+json": {
       "model_id": "22e98ffb51a240268c35c98a7f043979",
       "version_major": 2,
       "version_minor": 0
      },
      "text/plain": [
       "FloatText(value=0.7, description=u'Value: ')"
      ]
     },
     "metadata": {},
     "output_type": "display_data"
    },
    {
     "data": {
      "application/vnd.jupyter.widget-view+json": {
       "model_id": "96fe6c144cf54d53b51f1cdeb85ecfd2",
       "version_major": 2,
       "version_minor": 0
      },
      "text/plain": [
       "FloatProgress(value=0.7, max=0.9, min=0.5)"
      ]
     },
     "metadata": {},
     "output_type": "display_data"
    },
    {
     "data": {
      "application/vnd.jupyter.widget-view+json": {
       "model_id": "15f07d35d2db47a2b6c38fb3ec95dac9",
       "version_major": 2,
       "version_minor": 0
      },
      "text/plain": [
       "aW50ZXJhY3RpdmUoY2hpbGRyZW49KEludFNsaWRlcih2YWx1ZT01LCBkZXNjcmlwdGlvbj11J3RvdGFsX3BhcnRuZXJzJywgbWF4PTMwLCBtaW49NSwgc3RlcD01KSwgRmxvYXRTbGlkZXIodmHigKY=\n"
      ]
     },
     "metadata": {},
     "output_type": "display_data"
    }
   ],
   "source": [
    "display(g)\n",
    "display(f)\n",
    "display(g1)\n",
    "display(f1)\n",
    "\n",
    "def plot_water_abundance(total_partners, abundance_correlation):\n",
    "    Sweep_Parameters[\"water abundance\"][\"total_partners\"] = total_partners\n",
    "    Sweep_Parameters[\"water abundance\"][\"abundance_correlation\"] = abundance_correlation\n",
    "    Sweep_Parameters[\"water abundance\"][\"alpha\"] = np.linspace(0.15, 1.0, 6).tolist()\n",
    "    sweep_parameter(base, \"water abundance\")\n",
    "    Sweepdatafile = os.path.join(Datadir, \"Water_abundance.dmp\")\n",
    "    Plot_Sweep_Data(Sweepdatafile, \"water abundance\")\n",
    "    display(Image(filename='figures/Cell_diameter_vs_ploidy_vs_water_abundance.png'))\n",
    "    f.value = total_partners\n",
    "    g.value = total_partners\n",
    "    f1.value = abundance_correlation\n",
    "    g1.value = abundance_correlation\n",
    "    \n",
    "    \n",
    "s = interactive(plot_water_abundance, \n",
    "                total_partners = widgets.IntSlider(min=5, max=30, step=5, value=5),\n",
    "                abundance_correlation = widgets.FloatSlider(min=0.5, max=0.9, step=0.1, value=0.7))\n",
    "s"
   ]
  },
  {
   "cell_type": "markdown",
   "metadata": {
    "slideshow": {
     "slide_type": "-"
    }
   },
   "source": [
    "### Ideality Correction Factor\n",
    "\n",
    "Finally we can change the ideality correction factor as below"
   ]
  },
  {
   "cell_type": "code",
   "execution_count": 12,
   "metadata": {
    "slideshow": {
     "slide_type": "-"
    }
   },
   "outputs": [],
   "source": [
    "Sweep_Parameters[\"ideality correction\"] = {\n",
    "        \"sweep_elem\" : \"ideality_correction\",\n",
    "        \"total_partners\" : 20,\n",
    "        \"abundance_correlation\" : 0.7,\n",
    "        \"alpha\" : 1,\n",
    "        \"ideality_correction\" : np.linspace(0.5, 1.5, 6).tolist()\n",
    "        }"
   ]
  },
  {
   "cell_type": "code",
   "execution_count": 13,
   "metadata": {
    "slideshow": {
     "slide_type": "-"
    }
   },
   "outputs": [
    {
     "data": {
      "application/vnd.jupyter.widget-view+json": {
       "model_id": "d8c6e1cdd77d41c3a2d262d7f5254578",
       "version_major": 2,
       "version_minor": 0
      },
      "text/plain": [
       "IntText(value=5, description=u'Value: ')"
      ]
     },
     "metadata": {},
     "output_type": "display_data"
    },
    {
     "data": {
      "application/vnd.jupyter.widget-view+json": {
       "model_id": "11a44fd6eae34fa38de4a7ee34bed271",
       "version_major": 2,
       "version_minor": 0
      },
      "text/plain": [
       "IntProgress(value=5, max=50, min=5)"
      ]
     },
     "metadata": {},
     "output_type": "display_data"
    },
    {
     "data": {
      "application/vnd.jupyter.widget-view+json": {
       "model_id": "22e98ffb51a240268c35c98a7f043979",
       "version_major": 2,
       "version_minor": 0
      },
      "text/plain": [
       "FloatText(value=0.7, description=u'Value: ')"
      ]
     },
     "metadata": {},
     "output_type": "display_data"
    },
    {
     "data": {
      "application/vnd.jupyter.widget-view+json": {
       "model_id": "96fe6c144cf54d53b51f1cdeb85ecfd2",
       "version_major": 2,
       "version_minor": 0
      },
      "text/plain": [
       "FloatProgress(value=0.7, max=0.9, min=0.5)"
      ]
     },
     "metadata": {},
     "output_type": "display_data"
    },
    {
     "data": {
      "application/vnd.jupyter.widget-view+json": {
       "model_id": "d2b5fc0598424e858b431e49dcebc4b4",
       "version_major": 2,
       "version_minor": 0
      },
      "text/plain": [
       "FloatText(value=1.0, description=u'Value: ')"
      ]
     },
     "metadata": {},
     "output_type": "display_data"
    },
    {
     "data": {
      "application/vnd.jupyter.widget-view+json": {
       "model_id": "4855debcdf7c449d9bc40a20b621bfbe",
       "version_major": 2,
       "version_minor": 0
      },
      "text/plain": [
       "FloatProgress(value=1.0, max=1.0, min=0.2)"
      ]
     },
     "metadata": {},
     "output_type": "display_data"
    },
    {
     "data": {
      "application/vnd.jupyter.widget-view+json": {
       "model_id": "a2431f90b76a45ba95963aefb5060209",
       "version_major": 2,
       "version_minor": 0
      },
      "text/plain": [
       "aW50ZXJhY3RpdmUoY2hpbGRyZW49KEludFNsaWRlcih2YWx1ZT01LCBkZXNjcmlwdGlvbj11J3RvdGFsX3BhcnRuZXJzJywgbWF4PTMwLCBtaW49NSwgc3RlcD01KSwgRmxvYXRTbGlkZXIodmHigKY=\n"
      ]
     },
     "metadata": {},
     "output_type": "display_data"
    }
   ],
   "source": [
    "display(g)\n",
    "display(f)\n",
    "display(g1)\n",
    "display(f1)\n",
    "display(g2)\n",
    "display(f2)\n",
    "\n",
    "def plot_ideality_correction(total_partners, abundance_correlation, alpha):\n",
    "    Sweep_Parameters[\"ideality correction\"][\"total_partners\"] = total_partners\n",
    "    Sweep_Parameters[\"ideality correction\"][\"abundance_correlation\"] = abundance_correlation\n",
    "    Sweep_Parameters[\"ideality correction\"][\"alpha\"] = alpha\n",
    "    Sweep_Parameters[\"ideality correction\"][\"ideality_correction\"] = np.linspace(0.5, 1.5, 6).tolist()\n",
    "    sweep_parameter(base, \"ideality correction\")\n",
    "    Sweepdatafile = os.path.join(Datadir, \"Ideality_correction.dmp\")\n",
    "    Plot_Sweep_Data(Sweepdatafile, \"ideality correction\")\n",
    "    display(Image(filename='figures/Cell_diameter_vs_ploidy_vs_ideality_correction.png'))\n",
    "    f.value = total_partners\n",
    "    g.value = total_partners\n",
    "    f1.value = abundance_correlation\n",
    "    g1.value = abundance_correlation\n",
    "    f2.value = alpha\n",
    "    g2.value = alpha\n",
    "    \n",
    "t = interactive(plot_ideality_correction, \n",
    "                total_partners = widgets.IntSlider(min=5, max=30, step=5, value=5),\n",
    "                abundance_correlation = widgets.FloatSlider(min=0.5, max=0.9, step=0.1, value=0.7),\n",
    "                alpha = widgets.FloatSlider(min=0.2, max=1.0, step=0.2, value=1.0))\n",
    "t"
   ]
  },
  {
   "cell_type": "markdown",
   "metadata": {},
   "source": [
    "### Varying Water Abundance Factor\n",
    "\n",
    "Lastly we can run the simulation by varying the water abundance factor $\\alpha$ between 0.7 and 1 for different populations and see the effect and whether the results remain bounded."
   ]
  },
  {
   "cell_type": "code",
   "execution_count": 14,
   "metadata": {},
   "outputs": [
    {
     "data": {
      "image/png": "[encoded data removed]",
      "text/plain": [
       "<IPython.core.display.Image object>"
      ]
     },
     "metadata": {},
     "output_type": "display_data"
    }
   ],
   "source": [
    "Simdatafile = os.path.join(Datadir, \"simulation_data.dmp\")\n",
    "Varying_Alpha(Simdatafile)\n",
    "display(Image(filename='figures/Varying_Alpha.png'))"
   ]
  },
  {
   "cell_type": "markdown",
   "metadata": {},
   "source": [
    "## Biophysical Model with Ion Transport\n",
    "\n",
    "When ions are considered in the solution, transfer of both water and ions are to be considered\n",
    "\n",
    "### Flux of Water\n",
    "\n",
    "$$J_w = \\alpha(\\delta P - \\delta \\Pi)$$\n",
    "\n",
    "- $\\delta P \\rightarrow$  Hydrostatic Pressure\n",
    "- $\\delta \\Pi \\rightarrow$  Osmotic Pressure\n",
    "- $\\alpha \\rightarrow$ Membrane Permeation Constant\n",
    "\n",
    "At steady state, $J_w = 0$ which gives $\\delta P = \\delta \\Pi$. The hydrostatic pressure difference is given by the Laplace's law for spherical cells in suspension as \n",
    "\n",
    "$$P_{in} - P_{out} = \\delta P = \\frac{2\\sigma}{R_{cell}}$$"
   ]
  },
  {
   "cell_type": "markdown",
   "metadata": {},
   "source": [
    "### Flux of Ions\n",
    "\n",
    "The ion flux is driven by chemical potential difference and has two contributions\n",
    "\n",
    "- Across ion channels and *along* potential gradient.\n",
    "- Across pumps and *against* potential gradient.\n",
    "\n",
    "Then the net flux of ion i, $j_i$ is given by\n",
    "\n",
    "$$j_i = -\\lambda_i\\delta\\mu_i + J_i$$\n",
    "\n",
    "where,\n",
    "\n",
    "- $\\lambda_i \\rightarrow$ is the permeability constant\n",
    "- $\\delta\\mu_i \\rightarrow$ is the chemical potential difference\n",
    "- $J_i$ is contribution from pumps\n",
    "\n",
    "At steady state, $j_i = 0$ which gives \n",
    "\n",
    "$$\\delta\\mu_i = \\frac{J_i}{\\lambda_i}$$\n",
    "\n",
    "The chemical potential difference is related to concentration of component i inside and outside by \n",
    "$$\\delta\\mu_i = RT\\ln{\\frac{C_i^{in}}{C_i^{out}}}$$\n",
    "\n",
    "This means we can write\n",
    "\n",
    "$$\\frac{J_i}{\\lambda_i} = RT\\ln{\\frac{C_i^{in}}{C_i^{out}}}$$\n",
    "\n",
    "Or absorbing the constant $RT$ in $\\lambda_i$ we get\n",
    "\n",
    "$$\\exp\\left({\\frac{J_i}{\\lambda_i}}\\right) = {\\frac{C_i^{in}}{C_i^{out}}}$$"
   ]
  },
  {
   "cell_type": "markdown",
   "metadata": {},
   "source": [
    "### Osmotic Pressure\n",
    "\n",
    "Osmotic Pressure ($\\Pi$) can be obtained from Van't Hoff's Law which gives $\\Pi = RT\\sum_iC_i$ where there are i components in the solution. Suppose the solution has\n",
    "\n",
    "- $N_i$ ions freely transporting across cell.\n",
    "- $N_p$ proteins which cannot pass through the membrane.\n",
    "- $N'_p$ counterions to balance the charge of these proteins.\n",
    "\n",
    "Then the osmotic pressure difference is given by\n",
    "\n",
    "$$\\delta\\Pi = \\sum_j RT\\delta C_j + RT \\frac{\\sum_p(N_p + N'_p)}{V_{cell}}$$\n",
    "\n",
    "Here $\\delta C_i = C_i^{in} - C_i{out}$\n",
    "\n",
    "We can write this as\n",
    "\n",
    "$$\\delta C_i = C_i^{in} - C_i^{out} = C_i^{out}\\left(\\frac{C_i^{in}}{C_i^{out}} - 1\\right)$$"
   ]
  },
  {
   "cell_type": "markdown",
   "metadata": {},
   "source": [
    "At equilibrium, we have $\\delta P = \\delta\\Pi$ so we can apply the Laplace's equation to get\n",
    "\n",
    "$$\\frac{2\\sigma}{R_{cell}} = \\sum_j RTC_i^{out}\\left(\\frac{C_i^{in}}{C_i^{out}} - 1\\right) + RT \\frac{\\sum_p(N_p + N'_p)}{V_{cell}}$$\n",
    "\n",
    "Putting the value of $\\frac{C_i^{in}}{C_i^{out}}$ and neglecting the contribution from Laplace pressure\n",
    "\n",
    "$$0 = \\sum_j RTC_i^{out}\\left(\\exp\\left({\\frac{J_i}{\\lambda_i}}\\right) - 1\\right) + RT \\frac{\\sum_p(N_p + N'_p)}{V_{cell}}$$\n",
    "\n",
    "Hence the volume of the cell can be written as\n",
    "\n",
    "$$V_{cell} = \\frac{\\sum_p(N_p + N'_p)}{\\sum_j C_i^{out}\\left(\\exp\\left({\\frac{J_i}{\\lambda_i}}\\right) - 1\\right)}$$\n",
    "\n",
    "Using the expression for $N_p$ as in the biophysical model without ions we get\n",
    "\n",
    "$$V_{cell} = \\frac{\\sum_p\\left[\\left(\\sum_{k=1}^{N}A_kP_k - \\sum_{c=1}^M\\min_{k \\in S_c}(A_kP_k)N_c\\right] + N'_p\\right)}{\\sum_j C_i^{out}\\left(\\exp\\left({\\frac{J_i}{\\lambda_i}}\\right) - 1\\right)}$$"
   ]
  },
  {
   "cell_type": "markdown",
   "metadata": {},
   "source": [
    "### Protein Complexes of Size n\n",
    "\n",
    "Suppose we have $N$ proteins which form complexes of size n or n-mers ($n = 1,2,\\ldots$). Each protein monomer releases $m'_p$ counterions whereas the n-mer releases $m_n$ counterions. Here $m_n \\geq nm'_p$ at least. Then the total number of species will be give by $N/n + m_nN/n$ or $(m_n + 1)N/n$.\n",
    "\n",
    "#### Aneuploidy\n",
    "\n",
    "Now to consider aneuploidy let us consider the probability that a gene is doubled as $p$. Then the following events can happen for N proteins\n",
    "\n",
    "1. Genes encoding all $n$ proteins that forms a complex are multiplied. The probability (ploidy) is $p^n$.\n",
    "2. Genes encoding none of the $n$ proteins that forms a complex is multiplied. The probability is $(1 - p)^n$\n",
    "3. Genes encoding $r$ proteins are doubled where $r = 1,2,3,\\ldots,n - 1$. The probability is ${n \\choose r} p^r(1 - p)^r$.\n",
    "\n",
    "Now we make an assumption that in case 3 all proteins stay as monomers. Case 2 is already considered above. Hence the total number of proteins existing as monomer and n-mer is $\\frac{N}{n}p^n + N\\left(1 - p^n - (1 - p)^n\\right)$. Considering the contribution of $m_n$ and $m'_p$ counterions this becomes\n",
    "$$(m_n + 1)\\frac{N}{n}p^n + (m_p + 1)N\\left(1 - p^n - (1 - p)^n\\right)$$.\n",
    "\n",
    "Hence if we combine it with the number for euploid case then the volume of the cell becomes\n",
    "\n",
    "$$V_{cell} = \\frac{(m_n + 1)\\frac{N}{n}(1 + p^n) + (m_p + 1)N\\left(1 - p^n - (1 - p)^n\\right)}{\\sum_j C_i^{out}\\left(\\exp\\left({\\frac{J_i}{\\lambda_i}}\\right) - 1\\right)}$$\n",
    "\n",
    "This can be written more compactly as\n",
    "\n",
    "$$V_{cell} = \\frac{(m_n + 1)\\frac{N}{n}\\left((1 + p^n) + n\\frac{m_p + 1}{m_n + 1}\\left(1 - p^n - (1 - p)^n\\right)\\right)}{\\sum_j C_i^{out}\\left(\\exp\\left({\\frac{J_i}{\\lambda_i}}\\right) - 1\\right)}$$"
   ]
  },
  {
   "cell_type": "markdown",
   "metadata": {},
   "source": [
    "### Special Cases\n",
    "\n",
    "1. For $p = 0$ we have the case for haploids we get\n",
    "\n",
    "$$V_{cell}^h = \\frac{(m_n + 1)\\frac{N}{n}}{\\sum_j C_i^{out}\\left(\\exp\\left({\\frac{J_i}{\\lambda_i}}\\right) - 1\\right)}$$\n",
    "\n",
    "2. For $p = 1$ we have $$V_{cell} = 2\\frac{(m_n + 1)\\frac{N}{n}}{\\sum_j C_i^{out}\\left(\\exp\\left({\\frac{J_i}{\\lambda_i}}\\right) - 1\\right)} = 2V_{cell}^h$$\n",
    "\n",
    "3. For $n = 1$ or monomers we have $$V_{cell} = \\frac{(m_n + 1)\\frac{N}{n}\\left(1 + p + \\frac{m_p + 1}{m_n + 1}\\right)}{\\sum_j C_i^{out}\\left(\\exp\\left({\\frac{J_i}{\\lambda_i}}\\right) - 1\\right)} = \\left(2 + p \\right)V_{cell}^h$$\n",
    "\n",
    "4. For large complexes we can approximate this as $$V_{cell}^{\\inf} = \\frac{(m'_p + 1)N}{\\sum_j C_i^{out}\\left(\\exp\\left({\\frac{J_i}{\\lambda_i}}\\right) - 1\\right)} = n\\frac{m'_p + 1}{m_n + 1}V_{cell}^h \\leq \\frac{m'_p + 1}{m'_p}V_{cell}^h$$"
   ]
  },
  {
   "cell_type": "markdown",
   "metadata": {},
   "source": [
    "## Simulation\n",
    "\n",
    "To simulate this we adopt the following strategy\n",
    "\n",
    "1. Find the protein complexes and their abundances from PAX DB and other source.\n",
    "2. For each complex size $n$ calculate the contribution to the volume using the above formula\n",
    "3. (Optionally) adjust the abundance using the correlation factor $c_{complex}$.\n",
    "4. The contribution of the ions is capture in the ratio $\\gamma = \\frac{m_n + 1}{m'_p + 1}$.\n",
    "\n",
    "The volume vs. ploidy plot was obtained as below using the above strategy"
   ]
  },
  {
   "cell_type": "code",
   "execution_count": 15,
   "metadata": {},
   "outputs": [
    {
     "data": {
      "image/png": "[encoded data removed]",
      "text/plain": [
       "<IPython.core.display.Image object>"
      ]
     },
     "metadata": {},
     "output_type": "display_data"
    }
   ],
   "source": [
    "#Unadjusted\n",
    "display(Image(filename='figures/Cell_Diameter_vs_Ploidy.png'))"
   ]
  },
  {
   "cell_type": "code",
   "execution_count": 16,
   "metadata": {},
   "outputs": [
    {
     "data": {
      "image/png": "[encoded data removed]",
      "text/plain": [
       "<IPython.core.display.Image object>"
      ]
     },
     "metadata": {},
     "output_type": "display_data"
    }
   ],
   "source": [
    "#Adjusted\n",
    "display(Image(filename='figures/Cell_Diameter_vs_Ploidy_Adjusted.png'))"
   ]
  },
  {
   "cell_type": "markdown",
   "metadata": {},
   "source": [
    "## Parameter Sweeps\n",
    "\n",
    "Now we will perform the same series of parameter sweeps as above.\n",
    "\n",
    "### Complex Sizes\n",
    "\n",
    "The first parameter of interest is the complex size. The plots are shown below"
   ]
  },
  {
   "cell_type": "code",
   "execution_count": 17,
   "metadata": {},
   "outputs": [],
   "source": [
    "Sweep_Parameters = {\n",
    "    \"complex size\" : {\n",
    "        \"sweep_elem\" : \"total_partners\",\n",
    "        \"total_partners\" : [6],\n",
    "        \"abundance_correlation\" : 0.7,\n",
    "        \"alpha\" : 1,\n",
    "        \"ideality_correction\" : 1\n",
    "        }\n",
    "}"
   ]
  },
  {
   "cell_type": "code",
   "execution_count": 18,
   "metadata": {},
   "outputs": [
    {
     "data": {
      "application/vnd.jupyter.widget-view+json": {
       "model_id": "22e98ffb51a240268c35c98a7f043979",
       "version_major": 2,
       "version_minor": 0
      },
      "text/plain": [
       "FloatText(value=0.7, description=u'Value: ')"
      ]
     },
     "metadata": {},
     "output_type": "display_data"
    },
    {
     "data": {
      "application/vnd.jupyter.widget-view+json": {
       "model_id": "96fe6c144cf54d53b51f1cdeb85ecfd2",
       "version_major": 2,
       "version_minor": 0
      },
      "text/plain": [
       "FloatProgress(value=0.7, max=0.9, min=0.5)"
      ]
     },
     "metadata": {},
     "output_type": "display_data"
    },
    {
     "data": {
      "application/vnd.jupyter.widget-view+json": {
       "model_id": "d2b5fc0598424e858b431e49dcebc4b4",
       "version_major": 2,
       "version_minor": 0
      },
      "text/plain": [
       "FloatText(value=1.0, description=u'Value: ')"
      ]
     },
     "metadata": {},
     "output_type": "display_data"
    },
    {
     "data": {
      "application/vnd.jupyter.widget-view+json": {
       "model_id": "4855debcdf7c449d9bc40a20b621bfbe",
       "version_major": 2,
       "version_minor": 0
      },
      "text/plain": [
       "FloatProgress(value=1.0, max=1.0, min=0.2)"
      ]
     },
     "metadata": {},
     "output_type": "display_data"
    },
    {
     "data": {
      "application/vnd.jupyter.widget-view+json": {
       "model_id": "ca9afb8edab34236b16496f4f5470dda",
       "version_major": 2,
       "version_minor": 0
      },
      "text/plain": [
       "aW50ZXJhY3RpdmUoY2hpbGRyZW49KEZsb2F0U2xpZGVyKHZhbHVlPTAuNywgZGVzY3JpcHRpb249dSdhYnVuZGFuY2VfY29ycmVsYXRpb24nLCBtYXg9MC45LCBtaW49MC41KSwgRmxvYXRTbGnigKY=\n"
      ]
     },
     "metadata": {},
     "output_type": "display_data"
    }
   ],
   "source": [
    "display(g1)\n",
    "display(f1)\n",
    "display(g2)\n",
    "display(f2)\n",
    "\n",
    "def plot_complex_sweep(abundance_correlation, alpha):\n",
    "    Sweep_Parameters[\"complex size\"][\"total_partners\"] = [2, 5, 10, 20, 40]\n",
    "    Sweep_Parameters[\"complex size\"][\"abundance_correlation\"] = abundance_correlation\n",
    "    Sweep_Parameters[\"complex size\"][\"alpha\"] = alpha\n",
    "    sweep_parameter(base, \"complex size\", Ions = True)\n",
    "    Sweepdatafile = os.path.join(Datadir, \"Complex_size.dmp\")\n",
    "    Plot_Sweep_Data(Sweepdatafile, \"complex size\", Ions = True)\n",
    "    display(Image(filename='figures/Cell_diameter_vs_ploidy_vs_complex_size_Ions.png'))\n",
    "    Plot_Sweep_Data(Sweepdatafile, \"complex size\", Ions = True, Alignment = True)\n",
    "    display(Image(filename='figures/Cell_diameter_vs_ploidy_vs_complex_size_Ions_Aligned.png'))\n",
    "    f1.value = abundance_correlation\n",
    "    g1.value = abundance_correlation\n",
    "    f2.value = alpha\n",
    "    g2.value = alpha\n",
    "    \n",
    "q = interactive(plot_complex_sweep, \n",
    "                abundance_correlation = widgets.FloatSlider(min=0.5, max=0.9, step=0.1, value=0.7),\n",
    "                alpha = widgets.FloatSlider(min=0.2, max=1.0, step=0.2, value=1.0))\n",
    "q"
   ]
  },
  {
   "cell_type": "markdown",
   "metadata": {},
   "source": [
    "### Abundance Correlation\n",
    "\n",
    "The next parameter we will adjust is with respect to abundance correlation"
   ]
  },
  {
   "cell_type": "code",
   "execution_count": 19,
   "metadata": {},
   "outputs": [],
   "source": [
    "Sweep_Parameters[\"abundance correlation\"] = {\n",
    "        \"sweep_elem\" : \"abundance_correlation\",\n",
    "        \"total_partners\" : 2,\n",
    "        \"abundance_correlation\" : np.linspace(0.5, 0.9, 5).tolist(),\n",
    "        \"alpha\" : 1,\n",
    "        \"ideality_correction\" : 1\n",
    "        }"
   ]
  },
  {
   "cell_type": "code",
   "execution_count": 20,
   "metadata": {},
   "outputs": [
    {
     "data": {
      "application/vnd.jupyter.widget-view+json": {
       "model_id": "d2b5fc0598424e858b431e49dcebc4b4",
       "version_major": 2,
       "version_minor": 0
      },
      "text/plain": [
       "FloatText(value=1.0, description=u'Value: ')"
      ]
     },
     "metadata": {},
     "output_type": "display_data"
    },
    {
     "data": {
      "application/vnd.jupyter.widget-view+json": {
       "model_id": "4855debcdf7c449d9bc40a20b621bfbe",
       "version_major": 2,
       "version_minor": 0
      },
      "text/plain": [
       "FloatProgress(value=1.0, max=1.0, min=0.2)"
      ]
     },
     "metadata": {},
     "output_type": "display_data"
    },
    {
     "data": {
      "application/vnd.jupyter.widget-view+json": {
       "model_id": "58058674bc394f7bb3cba4b80ddc635b",
       "version_major": 2,
       "version_minor": 0
      },
      "text/plain": [
       "FloatText(value=1.0, description=u'Value: ')"
      ]
     },
     "metadata": {},
     "output_type": "display_data"
    },
    {
     "data": {
      "application/vnd.jupyter.widget-view+json": {
       "model_id": "038b398d437244daa568344542765942",
       "version_major": 2,
       "version_minor": 0
      },
      "text/plain": [
       "FloatProgress(value=1.0, max=1.5, min=0.5)"
      ]
     },
     "metadata": {},
     "output_type": "display_data"
    },
    {
     "data": {
      "application/vnd.jupyter.widget-view+json": {
       "model_id": "407c98552107442ea7545678b187e278",
       "version_major": 2,
       "version_minor": 0
      },
      "text/plain": [
       "aW50ZXJhY3RpdmUoY2hpbGRyZW49KEZsb2F0U2xpZGVyKHZhbHVlPTEuMCwgZGVzY3JpcHRpb249dSdhbHBoYScsIG1heD0xLjAsIG1pbj0wLjIsIHN0ZXA9MC4yKSwgRmxvYXRTbGlkZXIodmHigKY=\n"
      ]
     },
     "metadata": {},
     "output_type": "display_data"
    }
   ],
   "source": [
    "f3 = widgets.FloatProgress(min=0.5, max=1.5, step=0.2, value=1.0)\n",
    "g3 = widgets.FloatText(value=1.0, description=\"Value: \")\n",
    "\n",
    "display(g2)\n",
    "display(f2)\n",
    "display(g3)\n",
    "display(f3)\n",
    "\n",
    "Datadir = \"data\"\n",
    "Datastatfile = os.path.join(Datadir, \"data_stats_dump.dmp\")\n",
    "Interaction = \"Paxdb\"\n",
    "abundance_range, total_partners = Get_Abundance_Data(Datastatfile, Interaction = Interaction)\n",
    "\n",
    "for key, value in Sweep_Parameters.items():\n",
    "    if key != \"complex size\":\n",
    "        Sweep_Parameters[key][\"total_partners\"] = total_partners\n",
    "\n",
    "\n",
    "def plot_abundance_correlation(alpha, ideality_correction):\n",
    "    Sweep_Parameters[\"abundance correlation\"][\"total_partners\"] = total_partners\n",
    "    Sweep_Parameters[\"abundance correlation\"][\"abundance_correlation\"] = np.linspace(0.5, 0.9, 5).tolist()\n",
    "    Sweep_Parameters[\"abundance correlation\"][\"alpha\"] = alpha\n",
    "    Sweep_Parameters[\"abundance correlation\"][\"ideality_correction\"] = ideality_correction\n",
    "    sweep_parameter(base, \"abundance correlation\", Ions = True)\n",
    "    Sweepdatafile = os.path.join(Datadir, \"Abundance_correlation.dmp\")\n",
    "    Plot_Sweep_Data(Sweepdatafile, \"abundance correlation\", Ions = True)\n",
    "    display(Image(filename='figures/Cell_diameter_vs_ploidy_vs_abundance_correlation_Ions.png'))\n",
    "    Plot_Sweep_Data(Sweepdatafile, \"abundance correlation\", Ions = True, Alignment = True)\n",
    "    display(Image(filename='figures/Cell_diameter_vs_ploidy_vs_abundance_correlation_Ions_Aligned.png'))\n",
    "    f3.value = ideality_correction\n",
    "    g3.value = ideality_correction\n",
    "    f2.value = alpha\n",
    "    g2.value = alpha\n",
    "    \n",
    "r = interactive(plot_abundance_correlation,\n",
    "                alpha = widgets.FloatSlider(min=0.2, max=1.0, step=0.2, value=1.0),\n",
    "                ideality_correction = widgets.FloatSlider(min=0.5, max=1.5, step=0.1, value=1.0))\n",
    "r"
   ]
  },
  {
   "cell_type": "code",
   "execution_count": 21,
   "metadata": {},
   "outputs": [],
   "source": [
    "Sweep_Parameters[\"water abundance\"] = {\n",
    "        \"sweep_elem\" : \"alpha\",\n",
    "        \"total_partners\" : 5,\n",
    "        \"abundance_correlation\" : 0.5,\n",
    "        \"alpha\" : np.linspace(0.15, 1.0, 6).tolist(),\n",
    "        \"ideality_correction\" : 1\n",
    "        }"
   ]
  },
  {
   "cell_type": "code",
   "execution_count": 22,
   "metadata": {},
   "outputs": [
    {
     "data": {
      "application/vnd.jupyter.widget-view+json": {
       "model_id": "22e98ffb51a240268c35c98a7f043979",
       "version_major": 2,
       "version_minor": 0
      },
      "text/plain": [
       "FloatText(value=0.7, description=u'Value: ')"
      ]
     },
     "metadata": {},
     "output_type": "display_data"
    },
    {
     "data": {
      "application/vnd.jupyter.widget-view+json": {
       "model_id": "96fe6c144cf54d53b51f1cdeb85ecfd2",
       "version_major": 2,
       "version_minor": 0
      },
      "text/plain": [
       "FloatProgress(value=0.7, max=0.9, min=0.5)"
      ]
     },
     "metadata": {},
     "output_type": "display_data"
    },
    {
     "data": {
      "application/vnd.jupyter.widget-view+json": {
       "model_id": "58058674bc394f7bb3cba4b80ddc635b",
       "version_major": 2,
       "version_minor": 0
      },
      "text/plain": [
       "FloatText(value=1.0, description=u'Value: ')"
      ]
     },
     "metadata": {},
     "output_type": "display_data"
    },
    {
     "data": {
      "application/vnd.jupyter.widget-view+json": {
       "model_id": "038b398d437244daa568344542765942",
       "version_major": 2,
       "version_minor": 0
      },
      "text/plain": [
       "FloatProgress(value=1.0, max=1.5, min=0.5)"
      ]
     },
     "metadata": {},
     "output_type": "display_data"
    },
    {
     "data": {
      "application/vnd.jupyter.widget-view+json": {
       "model_id": "3232383c968147788fda73df78981edb",
       "version_major": 2,
       "version_minor": 0
      },
      "text/plain": [
       "aW50ZXJhY3RpdmUoY2hpbGRyZW49KEZsb2F0U2xpZGVyKHZhbHVlPTEuMCwgZGVzY3JpcHRpb249dSdpZGVhbGl0eV9jb3JyZWN0aW9uJywgbWF4PTEuNSwgbWluPTAuNSksIEZsb2F0U2xpZGXigKY=\n"
      ]
     },
     "metadata": {},
     "output_type": "display_data"
    }
   ],
   "source": [
    "display(g1)\n",
    "display(f1)\n",
    "display(g3)\n",
    "display(f3)\n",
    "\n",
    "def plot_water_abundance(ideality_correction, abundance_correlation):\n",
    "    Sweep_Parameters[\"water abundance\"][\"total_partners\"] = total_partners\n",
    "    Sweep_Parameters[\"water abundance\"][\"abundance_correlation\"] = abundance_correlation\n",
    "    Sweep_Parameters[\"water abundance\"][\"alpha\"] = np.linspace(0.15, 1.0, 6).tolist()\n",
    "    sweep_parameter(base, \"water abundance\", Ions = True)\n",
    "    Sweepdatafile = os.path.join(Datadir, \"Water_abundance.dmp\")\n",
    "    Plot_Sweep_Data(Sweepdatafile, \"water abundance\", Ions = True)\n",
    "    display(Image(filename='figures/Cell_diameter_vs_ploidy_vs_water_abundance_Ions.png'))\n",
    "    Plot_Sweep_Data(Sweepdatafile, \"water abundance\", Ions = True, Alignment = True)\n",
    "    display(Image(filename='figures/Cell_diameter_vs_ploidy_vs_water_abundance_Ions_Aligned.png'))\n",
    "    f3.value = ideality_correction\n",
    "    g3.value = ideality_correction\n",
    "    f1.value = abundance_correlation\n",
    "    g1.value = abundance_correlation\n",
    "    \n",
    "    \n",
    "s = interactive(plot_water_abundance, \n",
    "                ideality_correction = widgets.FloatSlider(min=0.5, max=1.5, step=0.1, value=1.0),\n",
    "                abundance_correlation = widgets.FloatSlider(min=0.5, max=0.9, step=0.1, value=0.7))\n",
    "s"
   ]
  },
  {
   "cell_type": "code",
   "execution_count": 23,
   "metadata": {},
   "outputs": [
    {
     "data": {
      "image/png": "[encoded data removed]",
      "text/plain": [
       "<IPython.core.display.Image object>"
      ]
     },
     "metadata": {},
     "output_type": "display_data"
    }
   ],
   "source": [
    "Simdatafile = os.path.join(Datadir, \"simulation_data.dmp\")\n",
    "Varying_Alpha(Simdatafile, Ions = True)\n",
    "display(Image(filename='figures/Varying_Alpha_Ions.png'))"
   ]
  },
  {
   "cell_type": "markdown",
   "metadata": {
    "slideshow": {
     "slide_type": "-"
    }
   },
   "source": [
    "## References\n",
    " \n",
    "1. Hung-Ji Tsai, Anjali R Nelliat, Mohammad Ikbal Choudhury, Andrei Kuchar-\n",
    "avy, William D Bradford, Malcolm E Cook, Jisoo Kim, Devin B Mair, Sean X\n",
    "Sun, Michael C Schatz, and Rong Li. Hypo-osmotic-like stress underlies general\n",
    "cellular defects of aneuploidy. Nature, 570(7759):117–121, 2019."
   ]
  },
  {
   "cell_type": "code",
   "execution_count": null,
   "metadata": {},
   "outputs": [],
   "source": []
  }
 ],
 "metadata": {
  "jupytext": {
   "formats": "ipynb,md"
  },
  "kernelspec": {
   "display_name": "pyenv",
   "language": "python",
   "name": "pyenv"
  },
  "language_info": {
   "codemirror_mode": {
    "name": "ipython",
    "version": 2
   },
   "file_extension": ".py",
   "mimetype": "text/x-python",
   "name": "python",
   "nbconvert_exporter": "python",
   "pygments_lexer": "ipython2",
   "version": "2.7.15rc1"
  }
 },
 "nbformat": 4,
 "nbformat_minor": 2
}
